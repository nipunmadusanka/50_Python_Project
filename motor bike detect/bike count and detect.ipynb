{
 "cells": [
  {
   "cell_type": "code",
   "execution_count": null,
   "id": "106a8c7a",
   "metadata": {},
   "outputs": [],
   "source": []
  },
  {
   "cell_type": "code",
   "execution_count": 19,
   "id": "44f35c8a",
   "metadata": {},
   "outputs": [],
   "source": [
    "import cv2\n",
    "bikes_classifier = cv2.CascadeClassifier('Cascades/Vehicle and pedestrain detection/two_wheeler.xml')\n",
    "\n",
    "source = cv2.VideoCapture('bikes.mp4')\n",
    "\n",
    "count = 0\n",
    "\n",
    "while(True):\n",
    "    \n",
    "    ret,img = source.read()\n",
    "    \n",
    "    height, width = img.shape[0:2]\n",
    "    \n",
    "    img[0:70,0:width]=[0,0,255]\n",
    "    cv2.putText(img,'MOTOR BIKE COUNT:',(10,50),cv2.FONT_HERSHEY_SIMPLEX,1.5,(255,255,255),2)\n",
    "    \n",
    "    cv2.line(img,(0,height-200),(width,height-200),(0,255,255),2)\n",
    "    blur = cv2.blur(img,(3,3))\n",
    "    gray = cv2.cvtColor(blur,cv2.COLOR_BGR2GRAY)\n",
    "    \n",
    "    bikes = bikes_classifier.detectMultiScale(gray)\n",
    "    \n",
    "    for (x,y,w,h) in bikes:\n",
    "        \n",
    "        bikeCy = int(y+h/2)\n",
    "        lineCy = height-200\n",
    "        \n",
    "        if(bikeCy<lineCy+6 and bikeCy>lineCy-6):\n",
    "            count = count + 1\n",
    "            cv2.line(img,(0,height-200),(width,height-200),(0,0,255),5)\n",
    "        \n",
    "        cv2.rectangle(img,(x,y),(x+w,y+h),(0,255,0),2)\n",
    "        cv2.putText(img,'Bike',(x,y-10),cv2.FONT_HERSHEY_SIMPLEX,0.5,(0,255,0),2)\n",
    "        cv2.putText(img,str(count),(500,50),cv2.FONT_HERSHEY_SIMPLEX,1.5,(0,0,0),2)\n",
    "    cv2.imshow('LIVE',img)\n",
    "    key = cv2.waitKey(1)\n",
    "    \n",
    "    if key == 27:\n",
    "        break\n",
    "        \n",
    "cv2.destroyAllWindows()\n",
    "source.release()"
   ]
  },
  {
   "cell_type": "code",
   "execution_count": null,
   "id": "08c9878a",
   "metadata": {},
   "outputs": [],
   "source": []
  },
  {
   "cell_type": "code",
   "execution_count": null,
   "id": "53d53a0e",
   "metadata": {},
   "outputs": [],
   "source": []
  }
 ],
 "metadata": {
  "kernelspec": {
   "display_name": "Python 3 (ipykernel)",
   "language": "python",
   "name": "python3"
  },
  "language_info": {
   "codemirror_mode": {
    "name": "ipython",
    "version": 3
   },
   "file_extension": ".py",
   "mimetype": "text/x-python",
   "name": "python",
   "nbconvert_exporter": "python",
   "pygments_lexer": "ipython3",
   "version": "3.9.7"
  }
 },
 "nbformat": 4,
 "nbformat_minor": 5
}
